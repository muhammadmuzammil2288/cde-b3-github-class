{
 "cells": [
  {
   "cell_type": "markdown",
   "metadata": {},
   "source": [
    "# Part -1 Python Basics (Variables)"
   ]
  },
  {
   "cell_type": "markdown",
   "metadata": {},
   "source": [
    "1. Print Your Name with your Father name and Date of birth using suitable escape sequence charactor"
   ]
  },
  {
   "cell_type": "code",
   "execution_count": 1,
   "metadata": {},
   "outputs": [
    {
     "name": "stdout",
     "output_type": "stream",
     "text": [
      "Name:muzammil Father Name:zubair Date of Birth:13/05/2007\n"
     ]
    }
   ],
   "source": [
    "name=\"muzammil\"\n",
    "father_name= \"zubair\"\n",
    "dob=\"13/05/2007\"\n",
    "print(\"Name:\"+(name)+\" \"+\"Father Name:\"+(father_name)+\" \"+\"Date of Birth:\"+ (dob))  \n"
   ]
  },
  {
   "cell_type": "markdown",
   "metadata": {},
   "source": [
    "2. Write your small bio using variables and print it using print function"
   ]
  },
  {
   "cell_type": "code",
   "execution_count": 4,
   "metadata": {},
   "outputs": [
    {
     "name": "stdout",
     "output_type": "stream",
     "text": [
      "My name is muzammil My age is 18 My gender is Male My height is 1.67\n"
     ]
    }
   ],
   "source": [
    "name=\"muzammil\"\n",
    "age=\"18\"\n",
    "Gender=\"Male\"\n",
    "height= \"1.67\"\n",
    "print(\"My name is \"+(name)+\" \"+\"My age is \"+(age)+\" \"+\"My gender is \"+(Gender)+\" \"+\"My height is\"+\" \"+(height))"
   ]
  },
  {
   "cell_type": "markdown",
   "metadata": {},
   "source": [
    "3. Write a program in which use all the operators we can use in Python"
   ]
  },
  {
   "cell_type": "code",
   "execution_count": 3,
   "metadata": {},
   "outputs": [
    {
     "name": "stdout",
     "output_type": "stream",
     "text": [
      "2\n",
      "34\n",
      "288\n",
      "121439531096594251776\n",
      "1.125\n",
      "1\n"
     ]
    }
   ],
   "source": [
    "a=16\n",
    "b=18\n",
    "print((b)-(a))\n",
    "print((b)+(a))\n",
    "print((b)*(a))\n",
    "print((b)**(a))\n",
    "print((b)/(a))\n",
    "print((b)//(a))\n",
    "\n"
   ]
  },
  {
   "cell_type": "markdown",
   "metadata": {},
   "source": [
    "4. Completes the following steps of small task:\n",
    "    - Mention Marks of English , Islamiat and Maths out of 100 in 3 different variables\n",
    "    - Mention Variable of Total Marks and assign 300 to it\n",
    "    - Calculate Percentage"
   ]
  },
  {
   "cell_type": "code",
   "execution_count": 4,
   "metadata": {},
   "outputs": [
    {
     "name": "stdout",
     "output_type": "stream",
     "text": [
      "90.0\n"
     ]
    }
   ],
   "source": [
    "English= 81\n",
    "Islamiat=91\n",
    "Math=98\n",
    "obtained_marks=(English)+(Islamiat)+(Math)\n",
    "total_Marks= 300\n",
    "percentage=(obtained_marks)/(total_Marks)*100\n",
    "print((percentage))\n"
   ]
  },
  {
   "cell_type": "markdown",
   "metadata": {},
   "source": [
    "# Part -2 Python Basics (Conditional Statements)"
   ]
  },
  {
   "cell_type": "markdown",
   "metadata": {},
   "source": [
    "1) A company decided to give bonus of 5% to employee if his/her year of service is more than 5 years.\n",
    "Ask user for their salary and year of service and print the net bonus amount."
   ]
  },
  {
   "cell_type": "code",
   "execution_count": 8,
   "metadata": {},
   "outputs": [
    {
     "name": "stdout",
     "output_type": "stream",
     "text": [
      "you will get a five percent bonus\n",
      "your new salary is :\n",
      "5250.0\n"
     ]
    }
   ],
   "source": [
    "salary= int(input(\"Please enter your salary\"))\n",
    "years_of_service= float(input(\"Please enter your years of service\"))\n",
    "if years_of_service >5:\n",
    "    print (\"you will get a five percent bonus\")\n",
    "    print (\"your new salary is :\")\n",
    "    print((salary)*1.05)\n",
    "else:\n",
    "    print (\"You are not eligible\")    \n"
   ]
  },
  {
   "cell_type": "markdown",
   "metadata": {},
   "source": [
    "\n",
    "2) Write a program to check whether a person is eligible for voting or not. (accept age from user) if age is greater than 17 eligible otherwise not eligible"
   ]
  },
  {
   "cell_type": "code",
   "execution_count": 11,
   "metadata": {},
   "outputs": [
    {
     "name": "stdout",
     "output_type": "stream",
     "text": [
      "You are eligible to vote\n"
     ]
    }
   ],
   "source": [
    "user_age= float(input(\"Please Input your age\"))\n",
    "if user_age >17:\n",
    "    print(\"You are eligible to vote\")\n",
    "else:\n",
    "    print(\"You are not eligible to vote\")\n",
    "       "
   ]
  },
  {
   "cell_type": "markdown",
   "metadata": {},
   "source": [
    "\n",
    "3) Write a program to check whether a number entered by user is even or odd."
   ]
  },
  {
   "cell_type": "code",
   "execution_count": 14,
   "metadata": {},
   "outputs": [
    {
     "name": "stdout",
     "output_type": "stream",
     "text": [
      "Its an odd number\n"
     ]
    }
   ],
   "source": [
    "user_entered_number= int(input(\"Enter any number:\"))\n",
    "if user_entered_number %2==0:\n",
    "    print (\"The entered number is Even\")\n",
    "else:\n",
    "    print(\"Its an odd number\")\n"
   ]
  },
  {
   "cell_type": "markdown",
   "metadata": {},
   "source": [
    "4) Write a program to check whether a number is divisible by 7 or not.\n",
    "Show Answer"
   ]
  },
  {
   "cell_type": "code",
   "execution_count": 16,
   "metadata": {},
   "outputs": [
    {
     "name": "stdout",
     "output_type": "stream",
     "text": [
      "The number is not divisible by 7\n"
     ]
    }
   ],
   "source": [
    "number= int(input(\"Enter any number\"))\n",
    "if number %7==0:\n",
    "    print(\"The number is divisible by 7 \")\n",
    "else:\n",
    "    print(\"The number is not divisible by 7\")    "
   ]
  },
  {
   "cell_type": "markdown",
   "metadata": {},
   "source": [
    "5) Write a program to display \n",
    "\"Hello\" if a number entered by user is a multiple of five , otherwise print \"Bye\"."
   ]
  },
  {
   "cell_type": "code",
   "execution_count": 24,
   "metadata": {},
   "outputs": [
    {
     "name": "stdout",
     "output_type": "stream",
     "text": [
      "bye\n"
     ]
    }
   ],
   "source": [
    "input_number= int(input(\"Enter any number\"))\n",
    "if input_number %5==0:\n",
    "    print(\"Hello\")\n",
    "else:\n",
    "    print(\"bye\")    "
   ]
  },
  {
   "cell_type": "markdown",
   "metadata": {},
   "source": [
    "7) Write a program to display the last digit of a number.\n"
   ]
  },
  {
   "cell_type": "code",
   "execution_count": 26,
   "metadata": {},
   "outputs": [
    {
     "name": "stdout",
     "output_type": "stream",
     "text": [
      "the last digit is  0\n"
     ]
    }
   ],
   "source": [
    "new_input_number= int(input(\"Enter a number\"))\n",
    "last_digit= new_input_number % 10\n",
    "print(\"the last digit is \", last_digit)"
   ]
  },
  {
   "cell_type": "markdown",
   "metadata": {},
   "source": [
    "9) Take values of length and breadth of a rectangle from user and print if it is square or rectangle."
   ]
  },
  {
   "cell_type": "code",
   "execution_count": 28,
   "metadata": {},
   "outputs": [
    {
     "name": "stdout",
     "output_type": "stream",
     "text": [
      "The shape is square\n"
     ]
    }
   ],
   "source": [
    "length= float(input(\"enter lenght of rectangle\"))\n",
    "breadth= float(input(\"enter breadth of rectangle\"))\n",
    "if length==breadth:\n",
    "    print(\"The shape is square\")\n",
    "else:\n",
    "    print(\"The shape is rectangle\")    \n"
   ]
  },
  {
   "cell_type": "markdown",
   "metadata": {},
   "source": [
    "10) Take two int values from user and print greatest among them."
   ]
  },
  {
   "cell_type": "code",
   "execution_count": 29,
   "metadata": {},
   "outputs": [
    {
     "name": "stdout",
     "output_type": "stream",
     "text": [
      "the first number is greater\n"
     ]
    }
   ],
   "source": [
    "user_enter_number_one= int(input(\"enter any number\"))\n",
    "user_enter_number_two= int(input(\"enter any number\"))\n",
    "if user_enter_number_one > user_enter_number_two:\n",
    "    print(\"the first number is greater\")\n",
    "else:\n",
    "    print(\"the second number is greater\")\n",
    "        "
   ]
  },
  {
   "cell_type": "markdown",
   "metadata": {},
   "source": [
    "11) A shop will give discount of 10% if the cost of purchased quantity is more than 1000.\n",
    "Ask user for quantity\n",
    "Suppose, one unit will cost 100.\n",
    "Judge and print total cost for user."
   ]
  },
  {
   "cell_type": "code",
   "execution_count": 16,
   "metadata": {},
   "outputs": [
    {
     "name": "stdout",
     "output_type": "stream",
     "text": [
      "Total cost after discount (if applicable): 1000\n"
     ]
    }
   ],
   "source": [
    "\n",
    "quantity = int(input(\"Enter the quantity: \"))\n",
    "unit_price = 100\n",
    "total_cost = quantity * unit_price\n",
    "\n",
    "if total_cost > 1000:\n",
    "    discount = total_cost * 0.10\n",
    "    total_cost -= discount\n",
    "\n",
    "print(\"Total cost after discount (if applicable):\", total_cost)\n",
    "\n",
    "\n",
    "        \n",
    "\n"
   ]
  },
  {
   "cell_type": "markdown",
   "metadata": {},
   "source": [
    "12) A school has following rules for grading system:\n",
    "\n",
    "a. Below 25 - F\n",
    "\n",
    "b. 25 to 45 - E\n",
    "\n",
    "c. 45 to 50 - D\n",
    "\n",
    "d. 50 to 60 - C\n",
    "\n",
    "e. 60 to 80 - B\n",
    "\n",
    "f. Above 80 - A\n",
    "\n",
    "Ask user to enter marks and print the corresponding grade."
   ]
  },
  {
   "cell_type": "code",
   "execution_count": null,
   "metadata": {},
   "outputs": [],
   "source": [
    "marks = int(input(\"Enter your marks (0 to 100): \"))\n",
    "\n",
    "if marks < 0 or marks > 100:\n",
    "    print(\"Invalid marks. Please enter a value between 0 and 100.\")\n",
    "elif marks < 25:\n",
    "    print(\"Grade: F\")\n",
    "elif marks < 45:\n",
    "    print(\"Grade: E\")\n",
    "elif marks < 50:\n",
    "    print(\"Grade: D\")\n",
    "elif marks < 60:\n",
    "    print(\"Grade: C\")\n",
    "elif marks < 80:\n",
    "    print(\"Grade: B\")\n",
    "else:\n",
    "    print(\"Grade: A\")\n",
    "\n"
   ]
  },
  {
   "cell_type": "markdown",
   "metadata": {},
   "source": [
    "14)A student will not be allowed to sit in exam if his/her attendence is less than 75%.\n",
    "\n",
    "Take following input from user\n",
    "\n",
    "- Number of classes held\n",
    "\n",
    "- Number of classes attended.\n",
    "\n",
    "And print\n",
    "\n",
    "- percentage of class attended\n",
    "\n",
    "- Is student is allowed to sit in exam or not.\n"
   ]
  },
  {
   "cell_type": "code",
   "execution_count": null,
   "metadata": {},
   "outputs": [],
   "source": [
    "\n",
    "classes_held = int(input(\"Enter the number of classes held: \"))\n",
    "classes_attended = int(input(\"Enter the number of classes attended: \"))\n",
    "\n",
    "# Check for valid input\n",
    "if classes_held <= 0 or classes_attended < 0 or classes_attended > classes_held:\n",
    "    print(\"Invalid input. Please enter realistic class numbers.\")\n",
    "else:\n",
    "    \n",
    "    attendance_percentage = (classes_attended / classes_held) * 100\n",
    "\n",
    "    \n",
    "    print(f\"Attendance Percentage: {attendance_percentage:.2f}%\")\n",
    "\n",
    "    if attendance_percentage >= 75:\n",
    "        print(\"Allowed to sit in exam.\")\n",
    "    else:\n",
    "        print(\"Not allowed to sit in exam.\")\n"
   ]
  },
  {
   "cell_type": "markdown",
   "metadata": {},
   "source": [
    "15) Modify the above question to allow student to sit if he/she has medical cause. Ask user if he/she has medical cause or not ( 'Y' or 'N' ) and print accordingly."
   ]
  },
  {
   "cell_type": "code",
   "execution_count": null,
   "metadata": {},
   "outputs": [],
   "source": [
    "\n",
    "classes_held = int(input(\"Enter the number of classes held: \"))\n",
    "classes_attended = int(input(\"Enter the number of classes attended: \"))\n",
    "\n",
    "\n",
    "if classes_held <= 0 or classes_attended < 0 or classes_attended > classes_held:\n",
    "    print(\"Invalid input. Please enter realistic class numbers.\")\n",
    "else:\n",
    "    \n",
    "    attendance_percentage = (classes_attended / classes_held) * 100\n",
    "    print(f\"Attendance Percentage: {attendance_percentage:.2f}%\")\n",
    "\n",
    "    \n",
    "    if attendance_percentage >= 75:\n",
    "        print(\"Allowed to sit in exam.\")\n",
    "    else:\n",
    "        medical_cause = input(\"Do you have a medical cause? (Y/N): \")\n",
    "        if medical_cause.upper() == 'Y':\n",
    "            print(\"Allowed to sit in exam due to medical cause.\")\n",
    "        else:\n",
    "            print(\"Not allowed to sit in exam.\")\n"
   ]
  },
  {
   "cell_type": "markdown",
   "metadata": {},
   "source": [
    "16) Write a program to check if a year is leap year or not.\n",
    "\n",
    "If a year is divisible by 4 then it is leap year but if the year is century year like 2000, 1900, 2100 then it must be divisible by 400."
   ]
  },
  {
   "cell_type": "code",
   "execution_count": null,
   "metadata": {},
   "outputs": [],
   "source": [
    "year = int(input(\"Enter a year: \"))\n",
    "\n",
    "if (year % 4 == 0 and year % 100 != 0) or (year % 400 == 0):\n",
    "    print(f\"{year} is a leap year.\")\n",
    "else:\n",
    "    print(f\"{year} is not a leap year.\")\n"
   ]
  },
  {
   "cell_type": "markdown",
   "metadata": {},
   "source": [
    "17) Ask user to enter age, gender ( M or F ), marital status ( Y or N ) and then using following rules print their place of service.\n",
    "\n",
    "if employee is female, then she will work only in urban areas.\n",
    "\n",
    "if employee is a male and age is in between 20 to 40 then he may work in anywhere\n",
    "\n",
    "if employee is male and age is in between 40 t0 60 then he will work in urban areas only.\n",
    "\n",
    "And any other input of age should print \"ERROR\""
   ]
  },
  {
   "cell_type": "code",
   "execution_count": null,
   "metadata": {},
   "outputs": [],
   "source": [
    "age = int(input(\"Enter your age: \"))\n",
    "gender = input(\"Enter your gender (M/F): \").upper()\n",
    "marital_status = input(\"Are you married? (Y/N): \").upper()\n",
    "\n",
    "# Check for valid age\n",
    "if age < 20 or age > 60:\n",
    "    print(\"ERROR\")\n",
    "else:\n",
    "    if gender == \"F\":\n",
    "        print(\"You will work only in urban areas.\")\n",
    "    elif gender == \"M\":\n",
    "        if 20 <= age <= 40:\n",
    "            print(\"You may work anywhere.\")\n",
    "        elif 40 < age <= 60:\n",
    "            print(\"You will work only in urban areas.\")\n",
    "        else:\n",
    "            print(\"ERROR\")  # Extra safety (though already handled)\n",
    "    else:\n",
    "        print(\"Invalid gender input.\")\n"
   ]
  },
  {
   "cell_type": "markdown",
   "metadata": {},
   "source": [
    "6) Write a program to calculate the electricity bill (accept number of unit from user) according to the following criteria :\n",
    "     Unit                                                     Price  \n",
    "uptp 100 units                                             no charge\n",
    "Next 200 units                                              Rs 5 per unit\n",
    "After 200 units                                             Rs 10 per unit\n",
    "(For example if input unit is 350 than total bill amount is Rs.3500\n",
    "(For example if input unit is 97 than total bill amount is Rs.0\n",
    "(For example if input unit is 150 than total bill amount is Rs.750"
   ]
  },
  {
   "cell_type": "code",
   "execution_count": null,
   "metadata": {},
   "outputs": [],
   "source": [
    "units = int(input(\"Enter the number of units consumed: \"))\n",
    "bill = 0\n",
    "\n",
    "if units <= 100:\n",
    "    bill = 0\n",
    "elif units <= 300:\n",
    "    # First 100 units free, rest charged at Rs 5 per unit\n",
    "    bill = (units - 100) * 5\n",
    "else:\n",
    "    # First 100 units free, next 200 units at Rs 5, rest at Rs 10\n",
    "    bill = 200 * 5 + (units - 300) * 10\n",
    "\n",
    "print(f\"Total bill amount is Rs.{bill}\")\n"
   ]
  },
  {
   "cell_type": "markdown",
   "metadata": {},
   "source": [
    "13) Take input of age of 3 people by user and determine oldest and youngest among them."
   ]
  },
  {
   "cell_type": "code",
   "execution_count": null,
   "metadata": {},
   "outputs": [],
   "source": [
    "\n",
    "age1 = int(input(\"Enter age of person 1: \"))\n",
    "age2 = int(input(\"Enter age of person 2: \"))\n",
    "age3 = int(input(\"Enter age of person 3: \"))\n",
    "\n",
    "\n",
    "oldest = max(age1, age2, age3)\n",
    "\n",
    "\n",
    "youngest = min(age1, age2, age3)\n",
    "\n",
    "print(f\"The oldest age is: {oldest}\")\n",
    "print(f\"The youngest age is: {youngest}\")\n"
   ]
  }
 ],
 "metadata": {
  "kernelspec": {
   "display_name": "Python 3 (ipykernel)",
   "language": "python",
   "name": "python3"
  },
  "language_info": {
   "codemirror_mode": {
    "name": "ipython",
    "version": 3
   },
   "file_extension": ".py",
   "mimetype": "text/x-python",
   "name": "python",
   "nbconvert_exporter": "python",
   "pygments_lexer": "ipython3",
   "version": "3.13.5"
  }
 },
 "nbformat": 4,
 "nbformat_minor": 4
}
